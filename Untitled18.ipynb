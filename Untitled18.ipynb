{
  "nbformat": 4,
  "nbformat_minor": 0,
  "metadata": {
    "colab": {
      "provenance": [],
      "authorship_tag": "ABX9TyON3zXayF7aImdZ6Bdek+fy",
      "include_colab_link": true
    },
    "kernelspec": {
      "name": "python3",
      "display_name": "Python 3"
    },
    "language_info": {
      "name": "python"
    }
  },
  "cells": [
    {
      "cell_type": "markdown",
      "metadata": {
        "id": "view-in-github",
        "colab_type": "text"
      },
      "source": [
        "<a href=\"https://colab.research.google.com/github/y-patankar/StockMarket/blob/main/Untitled18.ipynb\" target=\"_parent\"><img src=\"https://colab.research.google.com/assets/colab-badge.svg\" alt=\"Open In Colab\"/></a>"
      ]
    },
    {
      "cell_type": "code",
      "execution_count": null,
      "metadata": {
        "id": "9_78-q3hKV2x",
        "outputId": "99e7d455-688a-46fe-ba35-ec32d901c30e",
        "colab": {
          "base_uri": "https://localhost:8080/"
        }
      },
      "outputs": [
        {
          "output_type": "stream",
          "name": "stdout",
          "text": [
            "        Date  open  high  low  close  prev_date  prev_open  prev_high  \\\n",
            "0 2024-01-01   100   102   98    101        NaT        NaN        NaN   \n",
            "1 2024-01-02   105   107  103    106 2024-01-01      100.0      102.0   \n",
            "2 2024-01-03   110   112  108    111 2024-01-02      105.0      107.0   \n",
            "\n",
            "   prev_low  prev_close  \n",
            "0       NaN         NaN  \n",
            "1      98.0       101.0  \n",
            "2     103.0       106.0  \n"
          ]
        }
      ],
      "source": [
        "import pandas as pd\n",
        "\n",
        "# Sample DataFrame creation\n",
        "data = {\n",
        "    'Date': ['2024-01-01', '2024-01-02', '2024-01-03'],\n",
        "    'open': [100, 105, 110],\n",
        "    'high': [102, 107, 112],\n",
        "    'low': [98, 103, 108],\n",
        "    'close': [101, 106, 111]\n",
        "}\n",
        "df = pd.DataFrame(data)\n",
        "df['Date'] = pd.to_datetime(df['Date'])  # Convert Date column to datetime\n",
        "\n",
        "# Ensure DataFrame is sorted by Date\n",
        "df.sort_values(by='Date', inplace=True)\n",
        "\n",
        "# Shift rows to get previous day's values\n",
        "df['prev_date'] = df['Date'].shift(1)\n",
        "df['prev_open'] = df['open'].shift(1)\n",
        "df['prev_high'] = df['high'].shift(1)\n",
        "df['prev_low'] = df['low'].shift(1)\n",
        "df['prev_close'] = df['close'].shift(1)\n",
        "\n",
        "# Display the modified DataFrame\n",
        "print(df)\n"
      ]
    }
  ]
}